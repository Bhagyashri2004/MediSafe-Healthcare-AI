{
  "nbformat": 4,
  "nbformat_minor": 0,
  "metadata": {
    "colab": {
      "provenance": [],
      "gpuType": "T4"
    },
    "kernelspec": {
      "name": "python3",
      "display_name": "Python 3"
    },
    "language_info": {
      "name": "python"
    },
    "accelerator": "GPU"
  },
  "cells": [
    {
      "cell_type": "code",
      "execution_count": 29,
      "metadata": {
        "id": "WOH18w8jDDO7"
      },
      "outputs": [],
      "source": [
        "import pandas as pd\n",
        "from sklearn.preprocessing import LabelEncoder\n",
        "import matplotlib.pyplot as plt\n",
        "import seaborn as sns\n",
        "from sklearn.preprocessing import StandardScaler\n",
        "from sklearn.ensemble import RandomForestClassifier"
      ]
    },
    {
      "cell_type": "code",
      "source": [
        "df = pd.read_csv(\"/content/Final_medicine_quality_dataset.csv\")"
      ],
      "metadata": {
        "id": "PSvyeBtpHlrn"
      },
      "execution_count": 30,
      "outputs": []
    },
    {
      "cell_type": "code",
      "source": [
        "df.info()"
      ],
      "metadata": {
        "colab": {
          "base_uri": "https://localhost:8080/"
        },
        "id": "wv2oL-LmDyY_",
        "outputId": "810a4741-7422-401c-e553-d02eb2924588"
      },
      "execution_count": 31,
      "outputs": [
        {
          "output_type": "stream",
          "name": "stdout",
          "text": [
            "<class 'pandas.core.frame.DataFrame'>\n",
            "RangeIndex: 1100 entries, 0 to 1099\n",
            "Data columns (total 9 columns):\n",
            " #   Column                         Non-Null Count  Dtype  \n",
            "---  ------                         --------------  -----  \n",
            " 0   Active Ingredient              1100 non-null   object \n",
            " 1   Days Until Expiry              1100 non-null   int64  \n",
            " 2   Storage Temperature (°C)       1100 non-null   float64\n",
            " 3   Warning Labels Present         1100 non-null   float64\n",
            " 4   Dissolution Rate (%)           1100 non-null   float64\n",
            " 5   Disintegration Time (minutes)  1100 non-null   float64\n",
            " 6   Impurity Level (%)             1100 non-null   float64\n",
            " 7   Assay Purity (%)               1100 non-null   float64\n",
            " 8   Safe/Not Safe                  1100 non-null   object \n",
            "dtypes: float64(6), int64(1), object(2)\n",
            "memory usage: 77.5+ KB\n"
          ]
        }
      ]
    },
    {
      "cell_type": "code",
      "source": [
        "#Encode Categorical Features (Active Ingredient & Target Label)\n",
        "encoder = LabelEncoder()\n",
        "df[\"Active Ingredient\"] = encoder.fit_transform(df[\"Active Ingredient\"])\n",
        "\n",
        "df[\"Safe/Not Safe\"] = df[\"Safe/Not Safe\"].map({\"Safe\": 1, \"Not Safe\": 0})\n"
      ],
      "metadata": {
        "id": "raVOB13YD064"
      },
      "execution_count": 32,
      "outputs": []
    },
    {
      "cell_type": "code",
      "source": [
        "#Check Class Distribution (Safe vs. Not Safe)\n",
        "sns.countplot(x=df[\"Safe/Not Safe\"], palette=[\"green\", \"red\"])\n",
        "plt.title(\"Class Distribution (Safe vs. Not Safe)\")\n",
        "plt.xlabel(\"Safe (1) / Not Safe (0)\")\n",
        "plt.ylabel(\"Count\")\n",
        "plt.show()\n"
      ],
      "metadata": {
        "colab": {
          "base_uri": "https://localhost:8080/",
          "height": 579
        },
        "id": "h9rCk5m8D8Yc",
        "outputId": "ef05f178-7ce9-4fe1-eb52-1e1927067140"
      },
      "execution_count": 33,
      "outputs": [
        {
          "output_type": "stream",
          "name": "stderr",
          "text": [
            "<ipython-input-33-501fa3a3cab0>:2: FutureWarning: \n",
            "\n",
            "Passing `palette` without assigning `hue` is deprecated and will be removed in v0.14.0. Assign the `x` variable to `hue` and set `legend=False` for the same effect.\n",
            "\n",
            "  sns.countplot(x=df[\"Safe/Not Safe\"], palette=[\"green\", \"red\"])\n"
          ]
        },
        {
          "output_type": "display_data",
          "data": {
            "text/plain": [
              "<Figure size 640x480 with 1 Axes>"
            ],
            "image/png": "[encoded data removed]"
          },
          "metadata": {}
        }
      ]
    },
    {
      "cell_type": "code",
      "source": [
        "#Feature Scaling (Standardization)\n",
        "scaler = StandardScaler()\n",
        "numerical_features = [\"Days Until Expiry\", \"Storage Temperature (°C)\",\n",
        "                      \"Dissolution Rate (%)\", \"Disintegration Time (minutes)\",\n",
        "                      \"Impurity Level (%)\", \"Assay Purity (%)\"]\n",
        "\n",
        "df[numerical_features] = scaler.fit_transform(df[numerical_features])\n"
      ],
      "metadata": {
        "id": "wbKLu84BEMg-"
      },
      "execution_count": 34,
      "outputs": []
    },
    {
      "cell_type": "code",
      "source": [
        "#Feature Selection (Check Feature Importance)\n",
        "\n",
        "X = df.drop(columns=[\"Safe/Not Safe\"])\n",
        "y = df[\"Safe/Not Safe\"]\n",
        "\n",
        "model = RandomForestClassifier()\n",
        "model.fit(X, y)\n",
        "\n",
        "importances = model.feature_importances_\n",
        "feature_names = X.columns\n",
        "\n",
        "# Display feature importance\n",
        "sorted_indices = importances.argsort()[::-1]\n",
        "for i in sorted_indices:\n",
        "    print(f\"{feature_names[i]}: {importances[i]}\")\n"
      ],
      "metadata": {
        "colab": {
          "base_uri": "https://localhost:8080/"
        },
        "id": "vzsZtjf5E1-6",
        "outputId": "aef3e17a-4cf2-40e7-fb87-3d8e042f7bd3"
      },
      "execution_count": 35,
      "outputs": [
        {
          "output_type": "stream",
          "name": "stdout",
          "text": [
            "Impurity Level (%): 0.3377363947703516\n",
            "Assay Purity (%): 0.31938290669395686\n",
            "Dissolution Rate (%): 0.18851126710363375\n",
            "Days Until Expiry: 0.050584288224605874\n",
            "Storage Temperature (°C): 0.04056645625822188\n",
            "Disintegration Time (minutes): 0.03718748449211087\n",
            "Active Ingredient: 0.02067444615446447\n",
            "Warning Labels Present: 0.005356756302654574\n"
          ]
        }
      ]
    },
    {
      "cell_type": "code",
      "source": [
        "df.to_csv(\"ReadyForModel_medicine_quality_dataset.csv\", index=False)\n",
        "print(\"\\nCleaned dataset saved as 'ReadyForModel_medicine_quality_dataset.csv'\")"
      ],
      "metadata": {
        "colab": {
          "base_uri": "https://localhost:8080/"
        },
        "id": "MUYDI7njRVgP",
        "outputId": "1d69c782-c6b3-4acb-ae68-e0f14b278142"
      },
      "execution_count": 37,
      "outputs": [
        {
          "output_type": "stream",
          "name": "stdout",
          "text": [
            "\n",
            "Cleaned dataset saved as 'ReadyForModel_medicine_quality_dataset.csv'\n"
          ]
        }
      ]
    },
    {
      "cell_type": "code",
      "source": [
        "#Choosing the Best ML Algorithm\n",
        "from sklearn.model_selection import train_test_split\n",
        "from sklearn.ensemble import RandomForestClassifier\n",
        "from sklearn.svm import SVC\n",
        "from xgboost import XGBClassifier\n",
        "from sklearn.metrics import accuracy_score\n",
        "\n",
        "# Split dataset (80% train, 20% test)\n",
        "X = df.drop(columns=[\"Safe/Not Safe\"])\n",
        "y = df[\"Safe/Not Safe\"]\n",
        "X_train, X_test, y_train, y_test = train_test_split(X, y, test_size=0.2, random_state=42)\n",
        "\n",
        "# Define models\n",
        "models = {\n",
        "    \"Random Forest\": RandomForestClassifier(),\n",
        "    \"SVM\": SVC(),\n",
        "    \"XGBoost\": XGBClassifier()\n",
        "}\n",
        "\n",
        "# Train and evaluate each model\n",
        "for name, model in models.items():\n",
        "    model.fit(X_train, y_train)\n",
        "    y_pred = model.predict(X_test)\n",
        "    acc = accuracy_score(y_test, y_pred)\n",
        "    print(f\"🔹 {name} Accuracy: {acc:.4f}\")\n"
      ],
      "metadata": {
        "colab": {
          "base_uri": "https://localhost:8080/"
        },
        "id": "fwBQpDKwID56",
        "outputId": "e240c9f6-00c5-41d3-eff3-f263fb6dacbb"
      },
      "execution_count": 38,
      "outputs": [
        {
          "output_type": "stream",
          "name": "stdout",
          "text": [
            "🔹 Random Forest Accuracy: 0.9864\n",
            "🔹 SVM Accuracy: 0.8864\n",
            "🔹 XGBoost Accuracy: 0.9864\n"
          ]
        }
      ]
    },
    {
      "cell_type": "code",
      "source": [
        "#Hyperparameter Tuning for Random Forest\n",
        "from sklearn.model_selection import GridSearchCV\n",
        "\n",
        "# Define hyperparameters\n",
        "param_grid = {\n",
        "    \"n_estimators\": [100, 200, 300],\n",
        "    \"max_depth\": [10, 20, 30, None],\n",
        "    \"min_samples_split\": [2, 5, 10]\n",
        "}\n",
        "\n",
        "# Apply Grid Search\n",
        "grid_search = GridSearchCV(RandomForestClassifier(), param_grid, cv=5, scoring=\"accuracy\")\n",
        "grid_search.fit(X_train, y_train)\n",
        "\n",
        "# Best Parameters\n",
        "print(f\"Best Parameters: {grid_search.best_params_}\")\n",
        "print(f\"Best Accuracy after tuning: {grid_search.best_score_:.4f}\")\n"
      ],
      "metadata": {
        "colab": {
          "base_uri": "https://localhost:8080/"
        },
        "id": "yVgaGxUHJeFO",
        "outputId": "f530eae4-fd0d-4630-e7dd-69b6e19dd977"
      },
      "execution_count": 39,
      "outputs": [
        {
          "output_type": "stream",
          "name": "stdout",
          "text": [
            "Best Parameters: {'max_depth': 10, 'min_samples_split': 5, 'n_estimators': 300}\n",
            "Best Accuracy after tuning: 0.9807\n"
          ]
        }
      ]
    },
    {
      "cell_type": "code",
      "source": [
        "#Model Evaluation Techniques\n",
        "from sklearn.metrics import classification_report, confusion_matrix\n",
        "import seaborn as sns\n",
        "import matplotlib.pyplot as plt\n",
        "\n",
        "# Use the best trained model\n",
        "best_model = grid_search.best_estimator_\n",
        "y_pred = best_model.predict(X_test)\n",
        "\n",
        "# Confusion Matrix\n",
        "cm = confusion_matrix(y_test, y_pred)\n",
        "sns.heatmap(cm, annot=True, fmt=\"d\", cmap=\"Blues\", xticklabels=[\"Not Safe\", \"Safe\"], yticklabels=[\"Not Safe\", \"Safe\"])\n",
        "plt.xlabel(\"Predicted\")\n",
        "plt.ylabel(\"Actual\")\n",
        "plt.title(\"Confusion Matrix\")\n",
        "plt.show()\n",
        "\n",
        "# Classification Report\n",
        "print(\"-----------------------------------------------------------------\")\n",
        "print(classification_report(y_test, y_pred))\n"
      ],
      "metadata": {
        "colab": {
          "base_uri": "https://localhost:8080/",
          "height": 646
        },
        "id": "AY6xGuQ8Kv0N",
        "outputId": "d62a7acc-8990-417a-a3c1-c61aba44a73e"
      },
      "execution_count": 40,
      "outputs": [
        {
          "output_type": "display_data",
          "data": {
            "text/plain": [
              "<Figure size 640x480 with 2 Axes>"
            ],
            "image/png": "[encoded data removed]"
          },
          "metadata": {}
        },
        {
          "output_type": "stream",
          "name": "stdout",
          "text": [
            "-----------------------------------------------------------------\n",
            "              precision    recall  f1-score   support\n",
            "\n",
            "           0       1.00      0.97      0.99       118\n",
            "           1       0.97      1.00      0.99       102\n",
            "\n",
            "    accuracy                           0.99       220\n",
            "   macro avg       0.99      0.99      0.99       220\n",
            "weighted avg       0.99      0.99      0.99       220\n",
            "\n"
          ]
        }
      ]
    },
    {
      "cell_type": "code",
      "source": [],
      "metadata": {
        "id": "LO3-HWHALszn"
      },
      "execution_count": null,
      "outputs": []
    }
  ]
}