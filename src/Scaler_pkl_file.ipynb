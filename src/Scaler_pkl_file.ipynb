{
  "nbformat": 4,
  "nbformat_minor": 0,
  "metadata": {
    "colab": {
      "provenance": []
    },
    "kernelspec": {
      "name": "python3",
      "display_name": "Python 3"
    },
    "language_info": {
      "name": "python"
    }
  },
  "cells": [
    {
      "cell_type": "code",
      "source": [
        "import pandas as pd\n",
        "import pickle\n",
        "from sklearn.preprocessing import StandardScaler\n",
        "\n",
        "# Load the Final Dataset\n",
        "file_path = \"Final_medicine_quality_dataset.csv\"  # Update with the correct path if needed\n",
        "df = pd.read_csv(file_path)\n",
        "\n",
        "# Define numerical features to scale\n",
        "numerical_features = [\"Days Until Expiry\", \"Storage Temperature (°C)\",\n",
        "                      \"Dissolution Rate (%)\", \"Disintegration Time (minutes)\",\n",
        "                      \"Impurity Level (%)\", \"Assay Purity (%)\"]\n",
        "\n",
        "# Initialize and fit the StandardScaler on numerical features\n",
        "scaler = StandardScaler()\n",
        "df[numerical_features] = scaler.fit_transform(df[numerical_features])\n",
        "\n",
        "# Save the scaler object as a pickle file\n",
        "scaler_filename = \"scaler2.pkl\"\n",
        "with open(scaler_filename, 'wb') as file:\n",
        "    pickle.dump(scaler, file)\n",
        "\n",
        "print(f\"✅ Scaler2.pkl file has been created successfully!\")\n"
      ],
      "metadata": {
        "colab": {
          "base_uri": "https://localhost:8080/"
        },
        "id": "UafQlFLeOIrl",
        "outputId": "11af08b7-d760-4ffe-f5da-41b45dc9b30d"
      },
      "execution_count": 2,
      "outputs": [
        {
          "output_type": "stream",
          "name": "stdout",
          "text": [
            "✅ Scaler2.pkl file has been created successfully!\n"
          ]
        }
      ]
    }
  ]
}